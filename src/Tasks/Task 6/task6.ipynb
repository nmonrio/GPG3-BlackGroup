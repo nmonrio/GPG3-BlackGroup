{
 "cells": [
  {
   "cell_type": "code",
   "execution_count": null,
   "metadata": {},
   "outputs": [],
   "source": [
    "import easygopigo3 as easy\n",
    "import numpy as np\n",
    "import time\n",
    "from time import sleep\n",
    "\n",
    "servo_delay = 0.4\n",
    "\n",
    "gpg = easy.EasyGoPiGo3()\n",
    "\n",
    "my_distance_sensor = gpg.init_distance_sensor('AD1')\n",
    "gpg_servo = gpg.init_servo('SERVO1')\n",
    "\n",
    "fast = 255\n",
    "\n",
    "def forward_until_obstacle():\n",
    "    gpg.set_motor_power(1, 100)#left\n",
    "    gpg.set_motor_power(2, 100)#right\n",
    "    while my_distance_sensor.read_mm()>100:\n",
    "        pass\n",
    "    gpg.stop()\n",
    "    \n",
    "\n",
    "def destination_free(angle):\n",
    "    gpg_servo.rotate_servo(angle)\n",
    "    sleep(servo_delay)\n",
    "    return (my_distance_sensor.read_mm() >= 200)\n",
    "\n",
    "start = time.time()\n",
    "I_may_be_wrong = False\n",
    "\n",
    "if __name__==\"__main__\":\n",
    "    gpg_servo.rotate_servo(0)\n",
    "    time.sleep(1)\n",
    "    gpg_servo.rotate_servo(180)\n",
    "    time.sleep(1)\n",
    "    gpg_servo.rotate_servo(90)\n",
    "    finished = False\n",
    "    while not finished:\n",
    "        forward_until_obstacle()\n",
    "        end = time.time()\n",
    "        if end - start < 2 and I_may_be_wrong == True:\n",
    "            gpg.orbit(180) # I was wrong\n",
    "            I_may_be_wrong = False #Now I am not wrong\n",
    "                     \n",
    "        elif destination_free(180):\n",
    "            gpg.orbit(90)\n",
    "            start = time.time()\n",
    "            I_may_be_wrong = True\n",
    "            \n",
    "        else:\n",
    "            gpg.orbit(-90)\n",
    "        gpg_servo.rotate_servo(90)\n",
    "        sleep(servo_delay)\n"
   ]
  }
 ],
 "metadata": {
  "kernelspec": {
   "display_name": "Python 3",
   "language": "python",
   "name": "python3"
  },
  "language_info": {
   "codemirror_mode": {
    "name": "ipython",
    "version": 3
   },
   "file_extension": ".py",
   "mimetype": "text/x-python",
   "name": "python",
   "nbconvert_exporter": "python",
   "pygments_lexer": "ipython3",
   "version": "3.8.5"
  }
 },
 "nbformat": 4,
 "nbformat_minor": 2
}
