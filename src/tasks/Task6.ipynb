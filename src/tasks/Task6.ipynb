{
 "cells": [
  {
   "cell_type": "code",
   "execution_count": null,
   "metadata": {},
   "outputs": [],
   "source": [
    "import easygopigo3 as easy\n",
    "import numpy as np\n",
    "\n",
    "gpg = easy.EasyGoPiGo3()\n",
    "\n",
    "my_distance_sensor = gpg.init_distance_sensor('AD2')\n",
    "\n",
    "def forward_until_obstacle():\n",
    "    gpg.forward()\n",
    "    increase_speed()\n",
    "    while my_distance_sensor.read_mm()>100:\n",
    "        pass\n",
    "    gpg.stop()\n",
    "\n",
    "def destination_free():\n",
    "    gpg.turn_degrees(90)\n",
    "    condition = (my_distance_sensor.read_mm() >= 100)\n",
    "    return condition\n",
    "\n",
    "if __name__==\"__main__\":\n",
    "    end=False\n",
    "    while not end:\n",
    "        forward_until_obstacle()\n",
    "        if not destination_free():\n",
    "            gpg.turn_degrees(180)   \n",
    "    \n",
    "    \n",
    "        \n",
    "    "
   ]
  }
 ],
 "metadata": {
  "kernelspec": {
   "display_name": "Python 3",
   "language": "python",
   "name": "python3"
  },
  "language_info": {
   "codemirror_mode": {
    "name": "ipython",
    "version": 3
   },
   "file_extension": ".py",
   "mimetype": "text/x-python",
   "name": "python",
   "nbconvert_exporter": "python",
   "pygments_lexer": "ipython3",
   "version": "3.8.5"
  }
 },
 "nbformat": 4,
 "nbformat_minor": 4
}
